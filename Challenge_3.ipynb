{
 "cells": [
  {
   "cell_type": "code",
   "execution_count": 99,
   "id": "05432d7e",
   "metadata": {},
   "outputs": [],
   "source": [
    "import pandas as pd\n",
    "import nltk\n",
    "from nltk.corpus import stopwords\n",
    "from nltk.stem import PorterStemmer\n",
    "from sklearn.feature_extraction.text import CountVectorizer\n",
    "from textblob import TextBlob\n",
    "from datetime import timedelta\n",
    "warnings.filterwarnings(\"ignore\")\n",
    "import math\n",
    "import csv, io\n",
    "import numpy as np\n",
    "import scipy\n",
    "import matplotlib.pyplot as plt\n",
    "import nltk, string\n",
    "from nltk.corpus import stopwords\n",
    "from nltk.sentiment.vader import SentimentIntensityAnalyzer\n",
    "from sklearn.feature_extraction.text import TfidfVectorizer\n",
    "from sklearn import preprocessing\n",
    "from nltk.stem.snowball import SnowballStemmer\n"
   ]
  },
  {
   "cell_type": "code",
   "execution_count": 21,
   "id": "cc1e1ba1",
   "metadata": {},
   "outputs": [
    {
     "name": "stdout",
     "output_type": "stream",
     "text": [
      "Collecting textblob\n",
      "  Downloading textblob-0.18.0.post0-py3-none-any.whl (626 kB)\n",
      "     -------------------------------------- 626.3/626.3 kB 5.7 MB/s eta 0:00:00\n",
      "Collecting nltk>=3.8\n",
      "  Downloading nltk-3.8.1-py3-none-any.whl (1.5 MB)\n",
      "     ---------------------------------------- 1.5/1.5 MB 9.6 MB/s eta 0:00:00\n",
      "Requirement already satisfied: tqdm in c:\\users\\dathr\\anaconda3\\lib\\site-packages (from nltk>=3.8->textblob) (4.64.1)\n",
      "Requirement already satisfied: regex>=2021.8.3 in c:\\users\\dathr\\anaconda3\\lib\\site-packages (from nltk>=3.8->textblob) (2022.7.9)\n",
      "Requirement already satisfied: joblib in c:\\users\\dathr\\anaconda3\\lib\\site-packages (from nltk>=3.8->textblob) (1.1.0)\n",
      "Requirement already satisfied: click in c:\\users\\dathr\\anaconda3\\lib\\site-packages (from nltk>=3.8->textblob) (8.0.4)\n",
      "Requirement already satisfied: colorama in c:\\users\\dathr\\anaconda3\\lib\\site-packages (from click->nltk>=3.8->textblob) (0.4.5)\n",
      "Installing collected packages: nltk, textblob\n",
      "  Attempting uninstall: nltk\n",
      "    Found existing installation: nltk 3.7\n",
      "    Uninstalling nltk-3.7:\n",
      "      Successfully uninstalled nltk-3.7\n",
      "Successfully installed nltk-3.8.1 textblob-0.18.0.post0\n"
     ]
    }
   ],
   "source": [
    "!pip install textblob"
   ]
  },
  {
   "cell_type": "code",
   "execution_count": 57,
   "id": "50c03c3d",
   "metadata": {},
   "outputs": [],
   "source": [
    "# Load the dataset\n",
    "data = pd.read_csv('archive (3)/LokSabha_Election_2024_Tweets.csv')\n"
   ]
  },
  {
   "cell_type": "code",
   "execution_count": 58,
   "id": "a274c5d2",
   "metadata": {},
   "outputs": [
    {
     "data": {
      "text/html": [
       "<div>\n",
       "<style scoped>\n",
       "    .dataframe tbody tr th:only-of-type {\n",
       "        vertical-align: middle;\n",
       "    }\n",
       "\n",
       "    .dataframe tbody tr th {\n",
       "        vertical-align: top;\n",
       "    }\n",
       "\n",
       "    .dataframe thead th {\n",
       "        text-align: right;\n",
       "    }\n",
       "</style>\n",
       "<table border=\"1\" class=\"dataframe\">\n",
       "  <thead>\n",
       "    <tr style=\"text-align: right;\">\n",
       "      <th></th>\n",
       "      <th>link</th>\n",
       "      <th>text</th>\n",
       "      <th>date</th>\n",
       "      <th>No_of_likes</th>\n",
       "      <th>No_of_comments</th>\n",
       "    </tr>\n",
       "  </thead>\n",
       "  <tbody>\n",
       "    <tr>\n",
       "      <th>0</th>\n",
       "      <td>https://twitter.com/Politics_2022_/status/1739...</td>\n",
       "      <td>South India 2024 Loksabha Opinion Poll 132 sea...</td>\n",
       "      <td>Dec 25, 2023 · 12:05 PM UTC</td>\n",
       "      <td>324</td>\n",
       "      <td>27</td>\n",
       "    </tr>\n",
       "    <tr>\n",
       "      <th>1</th>\n",
       "      <td>https://twitter.com/LokmatTimes_ngp/status/173...</td>\n",
       "      <td>Veteran actor Nana Patekar says, \"There is no ...</td>\n",
       "      <td>Dec 25, 2023 · 1:00 PM UTC</td>\n",
       "      <td>0</td>\n",
       "      <td>0</td>\n",
       "    </tr>\n",
       "    <tr>\n",
       "      <th>2</th>\n",
       "      <td>https://twitter.com/Politics_2022_/status/1739...</td>\n",
       "      <td>South India BJP 2019 Loksabha Karnataka 25 Tel...</td>\n",
       "      <td>Dec 25, 2023 · 12:21 PM UTC</td>\n",
       "      <td>142</td>\n",
       "      <td>18</td>\n",
       "    </tr>\n",
       "    <tr>\n",
       "      <th>3</th>\n",
       "      <td>https://twitter.com/rohanayak/status/173926994...</td>\n",
       "      <td>Issh baar 357 seats in Loksabha election.</td>\n",
       "      <td>Dec 25, 2023 · 1:00 PM UTC</td>\n",
       "      <td>0</td>\n",
       "      <td>0</td>\n",
       "    </tr>\n",
       "    <tr>\n",
       "      <th>4</th>\n",
       "      <td>https://twitter.com/BellamSwathi/status/173919...</td>\n",
       "      <td>Total number of times MMS won his own lok sabh...</td>\n",
       "      <td>Dec 25, 2023 · 8:19 AM UTC</td>\n",
       "      <td>589</td>\n",
       "      <td>80</td>\n",
       "    </tr>\n",
       "  </tbody>\n",
       "</table>\n",
       "</div>"
      ],
      "text/plain": [
       "                                                link  \\\n",
       "0  https://twitter.com/Politics_2022_/status/1739...   \n",
       "1  https://twitter.com/LokmatTimes_ngp/status/173...   \n",
       "2  https://twitter.com/Politics_2022_/status/1739...   \n",
       "3  https://twitter.com/rohanayak/status/173926994...   \n",
       "4  https://twitter.com/BellamSwathi/status/173919...   \n",
       "\n",
       "                                                text  \\\n",
       "0  South India 2024 Loksabha Opinion Poll 132 sea...   \n",
       "1  Veteran actor Nana Patekar says, \"There is no ...   \n",
       "2  South India BJP 2019 Loksabha Karnataka 25 Tel...   \n",
       "3          Issh baar 357 seats in Loksabha election.   \n",
       "4  Total number of times MMS won his own lok sabh...   \n",
       "\n",
       "                          date  No_of_likes  No_of_comments  \n",
       "0  Dec 25, 2023 · 12:05 PM UTC          324              27  \n",
       "1   Dec 25, 2023 · 1:00 PM UTC            0               0  \n",
       "2  Dec 25, 2023 · 12:21 PM UTC          142              18  \n",
       "3   Dec 25, 2023 · 1:00 PM UTC            0               0  \n",
       "4   Dec 25, 2023 · 8:19 AM UTC          589              80  "
      ]
     },
     "execution_count": 58,
     "metadata": {},
     "output_type": "execute_result"
    }
   ],
   "source": [
    "data.head()"
   ]
  },
  {
   "cell_type": "code",
   "execution_count": 54,
   "id": "d58edd81",
   "metadata": {},
   "outputs": [
    {
     "name": "stderr",
     "output_type": "stream",
     "text": [
      "[nltk_data] Downloading package vader_lexicon to\n",
      "[nltk_data]     C:\\Users\\dathr\\AppData\\Roaming\\nltk_data...\n"
     ]
    },
    {
     "data": {
      "text/plain": [
       "True"
      ]
     },
     "execution_count": 54,
     "metadata": {},
     "output_type": "execute_result"
    }
   ],
   "source": [
    "nltk.download('vader_lexicon')"
   ]
  },
  {
   "cell_type": "code",
   "execution_count": 55,
   "id": "96bba048",
   "metadata": {},
   "outputs": [],
   "source": [
    "stemmer = SnowballStemmer('english')\n",
    "vectorizer = TfidfVectorizer(use_idf = True, tokenizer = nltk.word_tokenize,stop_words='english', smooth_idf = True)\n",
    "remove_punctuation_map = dict((ord(char), None) for char in string.punctuation)\n",
    "sid = SentimentIntensityAnalyzer()\n",
    "stopw = set(stopwords.words('english')) QA, PROD, UAT, "
   ]
  },
  {
   "cell_type": "code",
   "execution_count": 56,
   "id": "ff7a8486",
   "metadata": {},
   "outputs": [],
   "source": [
    "contraction = {\"ain't\": \"is not\", \"aren't\": \"are not\",\"can't\": \"cannot\", \n",
    "                   \"can't've\": \"cannot have\", \"'cause\": \"because\", \"could've\": \"could have\", \n",
    "                   \"couldn't\": \"could not\", \"couldn't've\": \"could not have\",\"didn't\": \"did not\", \n",
    "                   \"doesn't\": \"does not\", \"don't\": \"do not\", \"hadn't\": \"had not\", \n",
    "                   \"hadn't've\": \"had not have\", \"hasn't\": \"has not\", \"haven't\": \"have not\", \n",
    "                   \"he'd\": \"he would\", \"he'd've\": \"he would have\", \"he'll\": \"he will\", \n",
    "                   \"he'll've\": \"he he will have\", \"he's\": \"he is\", \"how'd\": \"how did\", \n",
    "                   \"how'd'y\": \"how do you\", \"how'll\": \"how will\", \"how's\": \"how is\", \n",
    "                   \"I'd\": \"I would\", \"I'd've\": \"I would have\", \"I'll\": \"I will\", \n",
    "                   \"I'll've\": \"I will have\",\"I'm\": \"I am\", \"I've\": \"I have\", \n",
    "                   \"i'd\": \"i would\", \"i'd've\": \"i would have\", \"i'll\": \"i will\", \n",
    "                   \"i'll've\": \"i will have\",\"i'm\": \"i am\", \"i've\": \"i have\", \n",
    "                   \"isn't\": \"is not\", \"it'd\": \"it would\", \"it'd've\": \"it would have\", \n",
    "                   \"it'll\": \"it will\", \"it'll've\": \"it will have\",\"it's\": \"it is\", \n",
    "                   \"let's\": \"let us\", \"ma'am\": \"madam\", \"mayn't\": \"may not\", \n",
    "                   \"might've\": \"might have\",\"mightn't\": \"might not\",\"mightn't've\": \"might not have\", \n",
    "                   \"must've\": \"must have\", \"mustn't\": \"must not\", \"mustn't've\": \"must not have\", \n",
    "                   \"needn't\": \"need not\", \"needn't've\": \"need not have\",\"o'clock\": \"of the clock\", \n",
    "                   \"oughtn't\": \"ought not\", \"oughtn't've\": \"ought not have\", \"shan't\": \"shall not\",\n",
    "                   \"sha'n't\": \"shall not\", \"shan't've\": \"shall not have\", \"she'd\": \"she would\", \n",
    "                   \"she'd've\": \"she would have\", \"she'll\": \"she will\", \"she'll've\": \"she will have\", \n",
    "                   \"she's\": \"she is\", \"should've\": \"should have\", \"shouldn't\": \"should not\", \n",
    "                   \"shouldn't've\": \"should not have\", \"so've\": \"so have\",\"so's\": \"so as\", \n",
    "                   \"this's\": \"this is\",\n",
    "                   \"that'd\": \"that would\", \"that'd've\": \"that would have\",\"that's\": \"that is\", \n",
    "                   \"there'd\": \"there would\", \"there'd've\": \"there would have\",\"there's\": \"there is\", \n",
    "                   \"they'd\": \"they would\", \"they'd've\": \"they would have\", \"they'll\": \"they will\", \n",
    "                   \"they'll've\": \"they will have\", \"they're\": \"they are\", \"they've\": \"they have\", \n",
    "                   \"to've\": \"to have\", \"wasn't\": \"was not\", \"we'd\": \"we would\", \n",
    "                   \"we'd've\": \"we would have\", \"we'll\": \"we will\", \"we'll've\": \"we will have\", \n",
    "                   \"we're\": \"we are\", \"we've\": \"we have\", \"weren't\": \"were not\", \n",
    "                   \"what'll\": \"what will\", \"what'll've\": \"what will have\", \"what're\": \"what are\", \n",
    "                   \"what's\": \"what is\", \"what've\": \"what have\", \"when's\": \"when is\", \n",
    "                   \"when've\": \"when have\", \"where'd\": \"where did\", \"where's\": \"where is\", \n",
    "                   \"where've\": \"where have\", \"who'll\": \"who will\", \"who'll've\": \"who will have\", \n",
    "                   \"who's\": \"who is\", \"who've\": \"who have\", \"why's\": \"why is\", \n",
    "                   \"why've\": \"why have\", \"will've\": \"will have\", \"won't\": \"will not\", \n",
    "                   \"won't've\": \"will not have\", \"would've\": \"would have\", \"wouldn't\": \"would not\", \n",
    "                   \"wouldn't've\": \"would not have\", \"y'all\": \"you all\", \"y'all'd\": \"you all would\",\n",
    "                   \"y'all'd've\": \"you all would have\",\"y'all're\": \"you all are\",\"y'all've\": \"you all have\",\n",
    "                   \"you'd\": \"you would\", \"you'd've\": \"you would have\", \"you'll\": \"you will\", \n",
    "                   \"you'll've\": \"you will have\", \"you're\": \"you are\", \"you've\": \"you have\", \"bharatiya janata party\" : \"bjp\",\n",
    "                   \"inc\" : \"congress\",\"@narendramodi\":\"modi\", \"pappu\":\"rahul gandhi\",\"gandhi\":\"rahul gandhi\", \"@rahulgandhi\":\"Rahul Gandhi\"}\n",
    "\n",
    "def clean(text):\n",
    "    text = text.lower()\n",
    "    temp = \"\"\n",
    "    for i in text.split():\n",
    "        if i not in stopw:\n",
    "            try:\n",
    "                temp+=contraction[i]+' '\n",
    "            except:\n",
    "                temp+= i+' '\n",
    "    text = temp.strip()\n",
    "    text = re.sub(r'http\\S+','', text)\n",
    "    text = text.lower().translate(remove_punctuation_map)\n",
    "    text = re.sub(r\"[^A-Za-z0-9^,!.\\/'+-=]\", \" \", text)\n",
    "    text = re.sub(r\"what's\", \"what is \", text)\n",
    "    text = re.sub(r\"\\'s\", \" \", text)\n",
    "    text = re.sub(r\"\\'ve\", \" have \", text)\n",
    "    text = re.sub(r\"n't\", \" not \", text)\n",
    "    text = re.sub(r\"i'm\", \"i am \", text)\n",
    "    text = re.sub(r\"\\'re\", \" are \", text)\n",
    "    text = re.sub(r\"\\'d\", \" would \", text)\n",
    "    text = re.sub(r\"\\'ll\", \" will \", text)\n",
    "    text = re.sub(r\",\", \" \", text)\n",
    "    text = re.sub(r\"\\.\", \" \", text)\n",
    "    text = re.sub(r\"!\", \" ! \", text)\n",
    "    text = re.sub(r\"\\/\", \" \", text)\n",
    "    text = re.sub(r\"\\^\", \" ^ \", text)\n",
    "    text = re.sub(r\"\\+\", \" + \", text)\n",
    "    text = re.sub(r\"\\-\", \" - \", text)\n",
    "    text = re.sub(r\"\\=\", \" = \", text)\n",
    "    text = re.sub(r\"'\", \" \", text)\n",
    "    text = re.sub(r\"(\\d+)(k)\", r\"\\g<1>000\", text)\n",
    "    text = re.sub(r\":\", \" : \", text)\n",
    "    text = re.sub(r\" e g \", \" eg \", text)\n",
    "    text = re.sub(r\" b g \", \" bg \", text)\n",
    "    text = re.sub(r\" u s \", \" american \", text)\n",
    "    text = re.sub(r\"\\0s\", \"0\", text)\n",
    "    text = re.sub(r\" 9 11 \", \"911\", text)\n",
    "    text = re.sub(r\"e - mail\", \"email\", text)\n",
    "    text = re.sub(r\"j k\", \"jk\", text)\n",
    "    text = re.sub(r\"\\s{2,}\", \" \", text)\n",
    "    text = text.replace(\"bhartiya janata party\",'bjp')\n",
    "    text = text.replace(\"indian national congress\", 'congress')\n",
    "    text = text.replace(\"aam aadmi party\", 'aap')\n",
    "    text = text.replace(\"narendra modi\", 'modi')\n",
    "    text = text.replace(\"rahulgandhi\", 'rahul gandhi')\n",
    "    temp=''\n",
    "    for i in text:\n",
    "        if i.isdigit()==False:\n",
    "            temp+=i\n",
    "    text = temp\n",
    "    text = text.split()\n",
    "    stemmed_words = [stemmer.stem(word) for word in text]\n",
    "    text = \" \".join(stemmed_words)\n",
    "    return text.strip()"
   ]
  },
  {
   "cell_type": "code",
   "execution_count": 67,
   "id": "26ebafc5",
   "metadata": {},
   "outputs": [
    {
     "data": {
      "text/plain": [
       "['south india loksabha opinion poll seat cvoter india bjp oth india poll vote survey bjp overestim bjp win seat either karnataka mayb telangana other includ ysr tdp aiadmk brs vote',\n",
       " 'veteran actor nana patekar say there altern bjp easili get seat lok sabha elect due outstand work nanagpatekar nanapatekar bjpgovern elect',\n",
       " 'south india bjp loksabha karnataka telangana andhra pradesh tamil nadu kerala seat seat congress drag rest state irrelev bjp apart ka tg anyth achiev bjp complain that',\n",
       " 'issh baar seat loksabha elect',\n",
       " 'total number time mms lok sabha seat zero henc ramu kaka gandi modi lost elect two general elect highest number mps last year highest approv rate amongst world leader henc strongest pm']"
      ]
     },
     "execution_count": 67,
     "metadata": {},
     "output_type": "execute_result"
    }
   ],
   "source": [
    "preprocessed = []\n",
    "for i in data[\"text\"]:\n",
    "    preprocessed.append(clean(str(i).strip().lower()))\n",
    "preprocessed[:5]"
   ]
  },
  {
   "cell_type": "code",
   "execution_count": 69,
   "id": "75f8d6af",
   "metadata": {},
   "outputs": [
    {
     "data": {
      "text/html": [
       "<div>\n",
       "<style scoped>\n",
       "    .dataframe tbody tr th:only-of-type {\n",
       "        vertical-align: middle;\n",
       "    }\n",
       "\n",
       "    .dataframe tbody tr th {\n",
       "        vertical-align: top;\n",
       "    }\n",
       "\n",
       "    .dataframe thead th {\n",
       "        text-align: right;\n",
       "    }\n",
       "</style>\n",
       "<table border=\"1\" class=\"dataframe\">\n",
       "  <thead>\n",
       "    <tr style=\"text-align: right;\">\n",
       "      <th></th>\n",
       "      <th>link</th>\n",
       "      <th>text</th>\n",
       "      <th>processed_tweet</th>\n",
       "      <th>date</th>\n",
       "      <th>No_of_likes</th>\n",
       "      <th>No_of_comments</th>\n",
       "    </tr>\n",
       "  </thead>\n",
       "  <tbody>\n",
       "    <tr>\n",
       "      <th>0</th>\n",
       "      <td>https://twitter.com/Politics_2022_/status/1739...</td>\n",
       "      <td>South India 2024 Loksabha Opinion Poll 132 sea...</td>\n",
       "      <td>south india loksabha opinion poll seat cvoter ...</td>\n",
       "      <td>Dec 25, 2023 · 12:05 PM UTC</td>\n",
       "      <td>324</td>\n",
       "      <td>27</td>\n",
       "    </tr>\n",
       "    <tr>\n",
       "      <th>1</th>\n",
       "      <td>https://twitter.com/LokmatTimes_ngp/status/173...</td>\n",
       "      <td>Veteran actor Nana Patekar says, \"There is no ...</td>\n",
       "      <td>veteran actor nana patekar say there altern bj...</td>\n",
       "      <td>Dec 25, 2023 · 1:00 PM UTC</td>\n",
       "      <td>0</td>\n",
       "      <td>0</td>\n",
       "    </tr>\n",
       "    <tr>\n",
       "      <th>2</th>\n",
       "      <td>https://twitter.com/Politics_2022_/status/1739...</td>\n",
       "      <td>South India BJP 2019 Loksabha Karnataka 25 Tel...</td>\n",
       "      <td>south india bjp loksabha karnataka telangana a...</td>\n",
       "      <td>Dec 25, 2023 · 12:21 PM UTC</td>\n",
       "      <td>142</td>\n",
       "      <td>18</td>\n",
       "    </tr>\n",
       "    <tr>\n",
       "      <th>3</th>\n",
       "      <td>https://twitter.com/rohanayak/status/173926994...</td>\n",
       "      <td>Issh baar 357 seats in Loksabha election.</td>\n",
       "      <td>issh baar seat loksabha elect</td>\n",
       "      <td>Dec 25, 2023 · 1:00 PM UTC</td>\n",
       "      <td>0</td>\n",
       "      <td>0</td>\n",
       "    </tr>\n",
       "    <tr>\n",
       "      <th>4</th>\n",
       "      <td>https://twitter.com/BellamSwathi/status/173919...</td>\n",
       "      <td>Total number of times MMS won his own lok sabh...</td>\n",
       "      <td>total number time mms lok sabha seat zero henc...</td>\n",
       "      <td>Dec 25, 2023 · 8:19 AM UTC</td>\n",
       "      <td>589</td>\n",
       "      <td>80</td>\n",
       "    </tr>\n",
       "  </tbody>\n",
       "</table>\n",
       "</div>"
      ],
      "text/plain": [
       "                                                link  \\\n",
       "0  https://twitter.com/Politics_2022_/status/1739...   \n",
       "1  https://twitter.com/LokmatTimes_ngp/status/173...   \n",
       "2  https://twitter.com/Politics_2022_/status/1739...   \n",
       "3  https://twitter.com/rohanayak/status/173926994...   \n",
       "4  https://twitter.com/BellamSwathi/status/173919...   \n",
       "\n",
       "                                                text  \\\n",
       "0  South India 2024 Loksabha Opinion Poll 132 sea...   \n",
       "1  Veteran actor Nana Patekar says, \"There is no ...   \n",
       "2  South India BJP 2019 Loksabha Karnataka 25 Tel...   \n",
       "3          Issh baar 357 seats in Loksabha election.   \n",
       "4  Total number of times MMS won his own lok sabh...   \n",
       "\n",
       "                                     processed_tweet  \\\n",
       "0  south india loksabha opinion poll seat cvoter ...   \n",
       "1  veteran actor nana patekar say there altern bj...   \n",
       "2  south india bjp loksabha karnataka telangana a...   \n",
       "3                      issh baar seat loksabha elect   \n",
       "4  total number time mms lok sabha seat zero henc...   \n",
       "\n",
       "                          date  No_of_likes  No_of_comments  \n",
       "0  Dec 25, 2023 · 12:05 PM UTC          324              27  \n",
       "1   Dec 25, 2023 · 1:00 PM UTC            0               0  \n",
       "2  Dec 25, 2023 · 12:21 PM UTC          142              18  \n",
       "3   Dec 25, 2023 · 1:00 PM UTC            0               0  \n",
       "4   Dec 25, 2023 · 8:19 AM UTC          589              80  "
      ]
     },
     "execution_count": 69,
     "metadata": {},
     "output_type": "execute_result"
    }
   ],
   "source": [
    "data.insert(2,\"processed_tweet\",preprocessed,True)\n",
    "data.head()"
   ]
  },
  {
   "cell_type": "code",
   "execution_count": 41,
   "id": "1f701404",
   "metadata": {},
   "outputs": [
    {
     "data": {
      "text/plain": [
       "link              object\n",
       "text              object\n",
       "date              object\n",
       "No_of_likes        int64\n",
       "No_of_comments     int64\n",
       "dtype: object"
      ]
     },
     "execution_count": 41,
     "metadata": {},
     "output_type": "execute_result"
    }
   ],
   "source": [
    "data.dtypes"
   ]
  },
  {
   "cell_type": "code",
   "execution_count": 70,
   "id": "71773189",
   "metadata": {},
   "outputs": [],
   "source": [
    "compare = [\"vijay rajnath ravishankar  yudhvirsethi patra narendra modi vijayvargiyah sadhvi bjp arun manoj reddy sushma rsprasad taneja maneka udhavthackeray gautam gambhir piyush goyal nitin gadkari gadkariji rss singh vasundhraraje bjpbengal smriti kailash gautamgambhir swamy udhav sushmaswaraj sadhvi pragya vasundhra sambitpatra shivraj arunjaitley manohar parikar subramanianswamy naredra modi manojtiwari amit modiji yogi adityanath sushma swaraj nitin vivekreddy shivrajsinghchouhan vijayrupani amit shah narendramodi pragya arun jaitley thackeray sunny deol bharatiya janata party kailashvijayvargiyah adityanath yogi jaitley piyush gadkari sambit smritiirani rajnathsingh irani swaraj gautam parikar nirmala bhartiya janta party ram nirmala sitaraman modi shivrajsingh nititngadkari manohar rammadhav smriti irani yedyurappa madhav gambhir narendra rajnath singh subrmanian goyal chouhan amitshah sitaraman manoharparikar ravishankar prasad rupani rao shah ravishankarprasad narsimha vivek vijay rupani prasad bhartiya janata party giriraj chowkidar\",\n",
    "          \"congress rahul gandhi sonia pappu manish tiwari mani shankar aiyar amrinder singh navjot sidhu pilot sachin jyotiraditya scindia ashok gehlot ajay makhan makhen chidambaram raj babbar sheila dikshit kamal nath digvijay singh sanjay kaul ashok chavan prithviraj randeep surjaewala hooda deepender kapil sibal manmohan ahmed patil natwar gaurav vallabh pawan khera taneja reddy george antony venugopal rao raman gogoi lalu prasad yadav akhilesh ravat urmila milind deora siddaramiah shivkumar dks sandeep ashok tanwar prakash jha\"]\n",
    "documents = data[\"processed_tweet\"]\n",
    "party = []\n",
    "for i in documents:\n",
    "    l = len(i.split())\n",
    "    freq_bjp = 0\n",
    "    freq_cong = 0\n",
    "    for j in compare[0].split():\n",
    "        freq_bjp+=i.count(j.strip())\n",
    "    for j in compare[1].split():\n",
    "        freq_cong+=i.count(j.strip())\n",
    "    #print(freq_cong, freq_bjp)\n",
    "    if freq_bjp>freq_cong:\n",
    "        party.append(\"BJP\")\n",
    "    elif freq_cong>freq_bjp:\n",
    "        party.append(\"Congress\")\n",
    "    else:\n",
    "        party.append(\"Other\")"
   ]
  },
  {
   "cell_type": "code",
   "execution_count": 74,
   "id": "3e393c8d",
   "metadata": {},
   "outputs": [
    {
     "data": {
      "image/png": "[encoded data removed]",
      "text/plain": [
       "<Figure size 600x600 with 1 Axes>"
      ]
     },
     "metadata": {},
     "output_type": "display_data"
    }
   ],
   "source": [
    "plt.rcParams[\"figure.figsize\"] = [6,6]\n",
    "labels = [\"BJP\",\"Congress\",\"Other\"]\n",
    "count = [party.count(\"BJP\"),party.count(\"Congress\"),party.count(\"Other\")]\n",
    "explode = (0.05,0.05,0.05)\n",
    "patches, texts,autotexts = plt.pie(count,labels=labels, explode = explode,colors = [\"orange\",\"lightgreen\",\"lightblue\"], startangle=90, autopct='%1.1f%%',shadow = False, pctdistance=0.85)\n",
    "centre_circle = plt.Circle((0,0),0.70,fc='white')\n",
    "fig = plt.gcf()\n",
    "fig.gca().add_artist(centre_circle)\n",
    "# Equal aspect ratio ensures that pie is drawn as a circle\n",
    "plt.axis('equal')  \n",
    "plt.tight_layout()\n",
    "plt.show()"
   ]
  },
  {
   "cell_type": "code",
   "execution_count": 76,
   "id": "b55f13f5",
   "metadata": {},
   "outputs": [],
   "source": [
    "sentiment = {\"Positive\":[], \"Negative\" :[], \"Neutral\":[], \"Compound\":[]}\n",
    "for i in data[\"processed_tweet\"]:\n",
    "    sentiment[\"Positive\"].append(sid.polarity_scores(i)['pos'])\n",
    "    sentiment[\"Negative\"].append(sid.polarity_scores(i)['neg'])\n",
    "    sentiment[\"Neutral\"].append(sid.polarity_scores(i)['neu'])\n",
    "    sentiment[\"Compound\"].append(sid.polarity_scores(i)['compound'])"
   ]
  },
  {
   "cell_type": "code",
   "execution_count": 79,
   "id": "1327ef43",
   "metadata": {},
   "outputs": [],
   "source": [
    "data.insert(6,\"Neutral\",sentiment['Neutral'],True)\n",
    "data.insert(7,\"Positive\",sentiment['Positive'],True)\n",
    "data.insert(8,\"Negative\",sentiment['Negative'],True)\n",
    "data.insert(9,\"Compound\",sentiment['Compound'],True)"
   ]
  },
  {
   "cell_type": "code",
   "execution_count": 81,
   "id": "dd260f46",
   "metadata": {},
   "outputs": [
    {
     "data": {
      "text/html": [
       "<div>\n",
       "<style scoped>\n",
       "    .dataframe tbody tr th:only-of-type {\n",
       "        vertical-align: middle;\n",
       "    }\n",
       "\n",
       "    .dataframe tbody tr th {\n",
       "        vertical-align: top;\n",
       "    }\n",
       "\n",
       "    .dataframe thead th {\n",
       "        text-align: right;\n",
       "    }\n",
       "</style>\n",
       "<table border=\"1\" class=\"dataframe\">\n",
       "  <thead>\n",
       "    <tr style=\"text-align: right;\">\n",
       "      <th></th>\n",
       "      <th>link</th>\n",
       "      <th>text</th>\n",
       "      <th>processed_tweet</th>\n",
       "      <th>date</th>\n",
       "      <th>No_of_likes</th>\n",
       "      <th>No_of_comments</th>\n",
       "      <th>Neutral</th>\n",
       "      <th>Positive</th>\n",
       "      <th>Negative</th>\n",
       "      <th>Compound</th>\n",
       "    </tr>\n",
       "  </thead>\n",
       "  <tbody>\n",
       "    <tr>\n",
       "      <th>0</th>\n",
       "      <td>https://twitter.com/Politics_2022_/status/1739...</td>\n",
       "      <td>South India 2024 Loksabha Opinion Poll 132 sea...</td>\n",
       "      <td>south india loksabha opinion poll seat cvoter ...</td>\n",
       "      <td>Dec 25, 2023 · 12:05 PM UTC</td>\n",
       "      <td>324</td>\n",
       "      <td>27</td>\n",
       "      <td>0.884</td>\n",
       "      <td>0.116</td>\n",
       "      <td>0.000</td>\n",
       "      <td>0.5859</td>\n",
       "    </tr>\n",
       "    <tr>\n",
       "      <th>1</th>\n",
       "      <td>https://twitter.com/LokmatTimes_ngp/status/173...</td>\n",
       "      <td>Veteran actor Nana Patekar says, \"There is no ...</td>\n",
       "      <td>veteran actor nana patekar say there altern bj...</td>\n",
       "      <td>Dec 25, 2023 · 1:00 PM UTC</td>\n",
       "      <td>0</td>\n",
       "      <td>0</td>\n",
       "      <td>1.000</td>\n",
       "      <td>0.000</td>\n",
       "      <td>0.000</td>\n",
       "      <td>0.0000</td>\n",
       "    </tr>\n",
       "    <tr>\n",
       "      <th>2</th>\n",
       "      <td>https://twitter.com/Politics_2022_/status/1739...</td>\n",
       "      <td>South India BJP 2019 Loksabha Karnataka 25 Tel...</td>\n",
       "      <td>south india bjp loksabha karnataka telangana a...</td>\n",
       "      <td>Dec 25, 2023 · 12:21 PM UTC</td>\n",
       "      <td>142</td>\n",
       "      <td>18</td>\n",
       "      <td>0.850</td>\n",
       "      <td>0.000</td>\n",
       "      <td>0.150</td>\n",
       "      <td>-0.5267</td>\n",
       "    </tr>\n",
       "    <tr>\n",
       "      <th>3</th>\n",
       "      <td>https://twitter.com/rohanayak/status/173926994...</td>\n",
       "      <td>Issh baar 357 seats in Loksabha election.</td>\n",
       "      <td>issh baar seat loksabha elect</td>\n",
       "      <td>Dec 25, 2023 · 1:00 PM UTC</td>\n",
       "      <td>0</td>\n",
       "      <td>0</td>\n",
       "      <td>1.000</td>\n",
       "      <td>0.000</td>\n",
       "      <td>0.000</td>\n",
       "      <td>0.0000</td>\n",
       "    </tr>\n",
       "    <tr>\n",
       "      <th>4</th>\n",
       "      <td>https://twitter.com/BellamSwathi/status/173919...</td>\n",
       "      <td>Total number of times MMS won his own lok sabh...</td>\n",
       "      <td>total number time mms lok sabha seat zero henc...</td>\n",
       "      <td>Dec 25, 2023 · 8:19 AM UTC</td>\n",
       "      <td>589</td>\n",
       "      <td>80</td>\n",
       "      <td>0.782</td>\n",
       "      <td>0.154</td>\n",
       "      <td>0.064</td>\n",
       "      <td>0.2960</td>\n",
       "    </tr>\n",
       "  </tbody>\n",
       "</table>\n",
       "</div>"
      ],
      "text/plain": [
       "                                                link  \\\n",
       "0  https://twitter.com/Politics_2022_/status/1739...   \n",
       "1  https://twitter.com/LokmatTimes_ngp/status/173...   \n",
       "2  https://twitter.com/Politics_2022_/status/1739...   \n",
       "3  https://twitter.com/rohanayak/status/173926994...   \n",
       "4  https://twitter.com/BellamSwathi/status/173919...   \n",
       "\n",
       "                                                text  \\\n",
       "0  South India 2024 Loksabha Opinion Poll 132 sea...   \n",
       "1  Veteran actor Nana Patekar says, \"There is no ...   \n",
       "2  South India BJP 2019 Loksabha Karnataka 25 Tel...   \n",
       "3          Issh baar 357 seats in Loksabha election.   \n",
       "4  Total number of times MMS won his own lok sabh...   \n",
       "\n",
       "                                     processed_tweet  \\\n",
       "0  south india loksabha opinion poll seat cvoter ...   \n",
       "1  veteran actor nana patekar say there altern bj...   \n",
       "2  south india bjp loksabha karnataka telangana a...   \n",
       "3                      issh baar seat loksabha elect   \n",
       "4  total number time mms lok sabha seat zero henc...   \n",
       "\n",
       "                          date  No_of_likes  No_of_comments  Neutral  \\\n",
       "0  Dec 25, 2023 · 12:05 PM UTC          324              27    0.884   \n",
       "1   Dec 25, 2023 · 1:00 PM UTC            0               0    1.000   \n",
       "2  Dec 25, 2023 · 12:21 PM UTC          142              18    0.850   \n",
       "3   Dec 25, 2023 · 1:00 PM UTC            0               0    1.000   \n",
       "4   Dec 25, 2023 · 8:19 AM UTC          589              80    0.782   \n",
       "\n",
       "   Positive  Negative  Compound  \n",
       "0     0.116     0.000    0.5859  \n",
       "1     0.000     0.000    0.0000  \n",
       "2     0.000     0.150   -0.5267  \n",
       "3     0.000     0.000    0.0000  \n",
       "4     0.154     0.064    0.2960  "
      ]
     },
     "execution_count": 81,
     "metadata": {},
     "output_type": "execute_result"
    }
   ],
   "source": [
    "data.head()"
   ]
  },
  {
   "cell_type": "code",
   "execution_count": 95,
   "id": "e0401d91",
   "metadata": {},
   "outputs": [],
   "source": [
    "import pandas as pd\n",
    "import matplotlib.pyplot as plt\n",
    "\n",
    "# Assuming you have your data stored in a DataFrame called data\n",
    "# Replace 'processed_tweet' and 'PositiveScore' with the actual column names in your DataFrame\n",
    "\n",
    "# Count tweets with 'bjp' and positive score > 0.4\n",
    "bjp_count = data[(data['processed_tweet'].str.contains('bjp', case=False)) & (data['Positive'] > 0.2)].shape[0]\n",
    "\n",
    "# Count tweets with 'congress' and positive score > 0.4\n",
    "congress_count = data[(data['processed_tweet'].str.contains('congress', case=False)) & (data['Positive'] > 0.2)].shape[0]\n",
    "\n",
    "# Count tweets with 'others' and positive score > 0.4\n",
    "others_count = data[(data['processed_tweet'].str.contains('other', case=False)) & (data['Positive'] > 0.2)].shape[0]"
   ]
  },
  {
   "cell_type": "code",
   "execution_count": 96,
   "id": "7b62d8ba",
   "metadata": {},
   "outputs": [
    {
     "data": {
      "text/plain": [
       "30"
      ]
     },
     "execution_count": 96,
     "metadata": {},
     "output_type": "execute_result"
    }
   ],
   "source": [
    "bjp_count"
   ]
  },
  {
   "cell_type": "code",
   "execution_count": 98,
   "id": "cfc7e9f1",
   "metadata": {},
   "outputs": [
    {
     "data": {
      "image/png": "[encoded data removed]",
      "text/plain": [
       "<Figure size 800x600 with 1 Axes>"
      ]
     },
     "metadata": {},
     "output_type": "display_data"
    }
   ],
   "source": [
    "# Create a bar plot\n",
    "plt.figure(figsize=(8, 6))\n",
    "plt.bar(['BJP', 'Congress', 'Others'], [bjp_count, congress_count, others_count], color=['blue', 'green', 'orange'])\n",
    "plt.title('Count of Tweets with Positive Scores > 0.2')\n",
    "plt.xlabel('Political Party')\n",
    "plt.ylabel('Count')\n",
    "plt.show()"
   ]
  },
  {
   "cell_type": "markdown",
   "id": "f89855d1",
   "metadata": {},
   "source": []
  }
 ],
 "metadata": {
  "kernelspec": {
   "display_name": "Python 3 (ipykernel)",
   "language": "python",
   "name": "python3"
  },
  "language_info": {
   "codemirror_mode": {
    "name": "ipython",
    "version": 3
   },
   "file_extension": ".py",
   "mimetype": "text/x-python",
   "name": "python",
   "nbconvert_exporter": "python",
   "pygments_lexer": "ipython3",
   "version": "3.9.13"
  }
 },
 "nbformat": 4,
 "nbformat_minor": 5
}
